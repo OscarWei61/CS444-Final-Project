{
 "cells": [
  {
   "cell_type": "code",
   "execution_count": 1,
   "metadata": {
    "id": "H4tz4T6Ogl22"
   },
   "outputs": [],
   "source": [
    "# Import libraries\n",
    "import cv2\n",
    "import numpy as np\n",
    "import os\n",
    "import pandas as pd\n",
    "import torch\n",
    "import torch.nn as nn\n",
    "import torch.nn.functional as F\n",
    "import matplotlib.pyplot as plt"
   ]
  },
  {
   "cell_type": "code",
   "execution_count": 2,
   "metadata": {
    "id": "n9A6UQ4Rgl23",
    "outputId": "744ca101-8731-4ad4-bdd8-d4ca5db69269"
   },
   "outputs": [
    {
     "name": "stdout",
     "output_type": "stream",
     "text": [
      "Using device: cuda\n",
      "Deep custom 3D CNN model initialized and set to eval mode.\n"
     ]
    }
   ],
   "source": [
    "# Define the deep custom 3D CNN model\n",
    "class DeepCrashNN(nn.Module):\n",
    "    def __init__(self):\n",
    "        super(DeepCrashNN, self).__init__()\n",
    "        # Block 1: 3D Conv + BatchNorm + ReLU, spatial pooling only (temporal resolution remains)\n",
    "        self.block1 = nn.Sequential(\n",
    "            nn.Conv3d(in_channels=3, out_channels=16, kernel_size=3, padding=1),\n",
    "            nn.BatchNorm3d(16),\n",
    "            nn.ReLU(),\n",
    "            nn.Conv3d(in_channels=16, out_channels=16, kernel_size=3, padding=1),\n",
    "            nn.BatchNorm3d(16),\n",
    "            nn.ReLU(),\n",
    "            nn.MaxPool3d(kernel_size=(1, 2, 2))  # Only spatial pooling: reduces H & W by 2\n",
    "        )\n",
    "        # Block 2: Increase channels to 32\n",
    "        self.block2 = nn.Sequential(\n",
    "            nn.Conv3d(in_channels=16, out_channels=32, kernel_size=3, padding=1),\n",
    "            nn.BatchNorm3d(32),\n",
    "            nn.ReLU(),\n",
    "            nn.Conv3d(in_channels=32, out_channels=32, kernel_size=3, padding=1),\n",
    "            nn.BatchNorm3d(32),\n",
    "            nn.ReLU(),\n",
    "            nn.MaxPool3d(kernel_size=(1, 2, 2)),\n",
    "            nn.Dropout3d(p=0.2)\n",
    "        )\n",
    "        # Block 3: Increase channels to 64 with global pooling at the end\n",
    "        self.block3 = nn.Sequential(\n",
    "            nn.Conv3d(in_channels=32, out_channels=64, kernel_size=3, padding=1),\n",
    "            nn.BatchNorm3d(64),\n",
    "            nn.ReLU(),\n",
    "            nn.Conv3d(in_channels=64, out_channels=64, kernel_size=3, padding=1),\n",
    "            nn.BatchNorm3d(64),\n",
    "            nn.ReLU(),\n",
    "            nn.AdaptiveAvgPool3d(1),  # Global average pooling over (T, H, W)\n",
    "            nn.Dropout3d(p=0.2)\n",
    "        )\n",
    "        self.dropout = nn.Dropout(p=0.5)\n",
    "        self.fc = nn.Linear(64, 1)\n",
    "\n",
    "    def forward(self, x):\n",
    "        x = self.block1(x)  # (B, 16, T, H/2, W/2)\n",
    "        x = self.block2(x)  # (B, 32, T, H/4, W/4)\n",
    "        x = self.block3(x)  # (B, 64, 1, 1, 1)\n",
    "        x = x.view(x.size(0), -1)  # Flatten to (B, 64)\n",
    "        x = self.dropout(x)\n",
    "        x = self.fc(x)             # (B, 1)\n",
    "        #return torch.sigmoid(x)    # Probability in [0,1]\n",
    "        return x\n",
    "\n",
    "# Instantiate the model and set it to evaluation mode\n",
    "device = torch.device(\"cuda\" if torch.cuda.is_available() else \"cpu\")\n",
    "print(\"Using device:\", device)\n",
    "model = DeepCrashNN().to(device)\n",
    "model.eval()\n",
    "print(\"Deep custom 3D CNN model initialized and set to eval mode.\")"
   ]
  },
  {
   "cell_type": "code",
   "execution_count": 3,
   "metadata": {
    "id": "UOTlPB0Jgl24",
    "outputId": "a7b4e265-ec27-4b4f-e683-447cac0fd4cc"
   },
   "outputs": [
    {
     "name": "stdout",
     "output_type": "stream",
     "text": [
      "Training data loaded. Number of training videos: 1500\n",
      "Test data loaded. Number of test videos: 1344\n"
     ]
    }
   ],
   "source": [
    "# Load training and test CSV files\n",
    "train_df = pd.read_csv('./nexar-collision-prediction/train.csv')\n",
    "test_df = pd.read_csv('./nexar-collision-prediction/test.csv')\n",
    "\n",
    "print(\"Training data loaded. Number of training videos:\", len(train_df))\n",
    "print(\"Test data loaded. Number of test videos:\", len(test_df))"
   ]
  },
  {
   "cell_type": "code",
   "execution_count": 4,
   "metadata": {
    "id": "ayIM15JIgl24"
   },
   "outputs": [],
   "source": [
    "# Define function to extract randomly sampled frames from a video\n",
    "def extract_random_frames(video_path, num_frames=40, resize=(224, 224)):\n",
    "    cap = cv2.VideoCapture(video_path)\n",
    "    if not cap.isOpened():\n",
    "        print(f\"Error opening video file: {video_path}\")\n",
    "        return None\n",
    "\n",
    "    total_frames = int(cap.get(cv2.CAP_PROP_FRAME_COUNT))\n",
    "    if total_frames <= 0:\n",
    "        cap.release()\n",
    "        return None\n",
    "\n",
    "    # Randomly sample 'num_frames' unique indices and sort them to preserve temporal order\n",
    "    frame_indices = sorted(np.random.choice(total_frames, num_frames, replace=False))\n",
    "\n",
    "    frames = []\n",
    "    current_frame = 0\n",
    "    next_idx = 0\n",
    "    ret = True\n",
    "    while ret and next_idx < len(frame_indices):\n",
    "        ret, frame = cap.read()\n",
    "        if not ret:\n",
    "            break\n",
    "        if current_frame == frame_indices[next_idx]:\n",
    "            frame = cv2.resize(frame, resize)\n",
    "            frame = cv2.cvtColor(frame, cv2.COLOR_BGR2RGB)\n",
    "            frame = frame.astype(np.float32) / 255.0  # Normalize to [0,1]\n",
    "            frames.append(frame)\n",
    "            next_idx += 1\n",
    "        current_frame += 1\n",
    "    cap.release()\n",
    "\n",
    "    if len(frames) < num_frames:\n",
    "        while len(frames) < num_frames:\n",
    "            frames.append(frames[-1])\n",
    "\n",
    "    # Convert frames to tensor with shape (B, C, T, H, W)\n",
    "    frames = np.stack(frames, axis=0)           # (T, H, W, C)\n",
    "    frames = np.transpose(frames, (3, 0, 1, 2))   # (C, T, H, W)\n",
    "    frames_tensor = torch.from_numpy(frames).unsqueeze(0)  # Add batch dimension\n",
    "    return frames_tensor"
   ]
  },
  {
   "cell_type": "code",
   "execution_count": 5,
   "metadata": {
    "id": "ZTPQYdFCgl24"
   },
   "outputs": [],
   "source": [
    "# Define prediction function\n",
    "def predict_video(video_path):\n",
    "    frames_tensor = extract_random_frames(video_path, num_frames=16, resize=(224,224))\n",
    "    if frames_tensor is None:\n",
    "        return 0.0  # Default probability if video cannot be processed\n",
    "    frames_tensor = frames_tensor.to(device)\n",
    "    with torch.no_grad():\n",
    "        output = model(frames_tensor)  # Output shape: (B, 1)\n",
    "        #prob = output.item()\n",
    "        prob = torch.sigmoid(output).item()\n",
    "    return prob"
   ]
  },
  {
   "cell_type": "code",
   "execution_count": 6,
   "metadata": {},
   "outputs": [],
   "source": [
    "from torch.utils.data import Dataset, DataLoader\n",
    "\n",
    "class VideoDataset(Dataset):\n",
    "    def __init__(self, df, video_dir, num_frames=16, resize=(224, 224)):\n",
    "        self.df = df\n",
    "        self.video_dir = video_dir\n",
    "        self.num_frames = num_frames\n",
    "        self.resize = resize\n",
    "\n",
    "    def __len__(self):\n",
    "        return len(self.df)\n",
    "\n",
    "    def __getitem__(self, idx):\n",
    "        row = self.df.iloc[idx]\n",
    "        video_id = int(float(row['id']))\n",
    "        label = torch.tensor([row['target']], dtype=torch.float32)  # label 必須是 float\n",
    "        video_filename = f\"{video_id:05d}.mp4\"\n",
    "        video_path = os.path.join(self.video_dir, video_filename)\n",
    "\n",
    "        frames = extract_random_frames(video_path, self.num_frames, self.resize)\n",
    "        if frames is None:\n",
    "            frames = torch.zeros((1, 3, self.num_frames, *self.resize))  # fallback\n",
    "\n",
    "        return frames.squeeze(0), label\n"
   ]
  },
  {
   "cell_type": "code",
   "execution_count": 7,
   "metadata": {},
   "outputs": [],
   "source": [
    "from sklearn.model_selection import train_test_split\n",
    "\n",
    "train_split, val_split = train_test_split(train_df, test_size=0.2, random_state=42)\n",
    "\n",
    "train_dataset = VideoDataset(train_split, video_dir='./nexar-collision-prediction/train')\n",
    "val_dataset = VideoDataset(val_split, video_dir='./nexar-collision-prediction/train')\n",
    "\n",
    "train_loader = DataLoader(train_dataset, batch_size=8, shuffle=True, num_workers=0)\n",
    "val_loader = DataLoader(val_dataset, batch_size=8, shuffle=False, num_workers=0)\n"
   ]
  },
  {
   "cell_type": "code",
   "execution_count": 8,
   "metadata": {},
   "outputs": [],
   "source": [
    "# 損失函數 & 優化器\n",
    "#criterion = nn.BCELoss()\n",
    "\n",
    "optimizer = torch.optim.Adam(model.parameters(), lr=1e-4)\n",
    "criterion = nn.BCEWithLogitsLoss()\n"
   ]
  },
  {
   "cell_type": "code",
   "execution_count": 9,
   "metadata": {},
   "outputs": [],
   "source": [
    "# 方式一：Adam\n",
    "#optimizer = torch.optim.Adam(model.parameters(), lr=1e-4)\n",
    "\n",
    "# 方式二：SGD\n",
    "#optimizer = torch.optim.SGD(model.parameters(), lr=1e-2, momentum=0.9)\n",
    "\n",
    "# 方式三：RMSprop\n",
    "#optimizer = torch.optim.RMSprop(model.parameters(), lr=1e-4)\n"
   ]
  },
  {
   "cell_type": "code",
   "execution_count": 10,
   "metadata": {},
   "outputs": [],
   "source": [
    "from tqdm import tqdm\n",
    "import matplotlib.pyplot as plt"
   ]
  },
  {
   "cell_type": "code",
   "execution_count": 11,
   "metadata": {},
   "outputs": [
    {
     "name": "stderr",
     "output_type": "stream",
     "text": [
      " 10%|█         | 1/10 [1:00:34<9:05:11, 3634.66s/it]"
     ]
    },
    {
     "name": "stdout",
     "output_type": "stream",
     "text": [
      "Epoch [1/10] - Train Loss: 0.6939 | Val Loss: 0.6751\n",
      "✅ 新最佳模型已儲存（Val Loss: 0.6751）\n"
     ]
    },
    {
     "name": "stderr",
     "output_type": "stream",
     "text": [
      " 20%|██        | 2/10 [2:00:08<7:59:50, 3598.85s/it]"
     ]
    },
    {
     "name": "stdout",
     "output_type": "stream",
     "text": [
      "Epoch [2/10] - Train Loss: 0.6804 | Val Loss: 0.6792\n"
     ]
    },
    {
     "name": "stderr",
     "output_type": "stream",
     "text": [
      " 30%|███       | 3/10 [3:01:29<7:04:15, 3636.54s/it]"
     ]
    },
    {
     "name": "stdout",
     "output_type": "stream",
     "text": [
      "Epoch [3/10] - Train Loss: 0.6853 | Val Loss: 0.6760\n"
     ]
    },
    {
     "name": "stderr",
     "output_type": "stream",
     "text": [
      " 40%|████      | 4/10 [4:02:23<6:04:20, 3643.44s/it]"
     ]
    },
    {
     "name": "stdout",
     "output_type": "stream",
     "text": [
      "Epoch [4/10] - Train Loss: 0.6681 | Val Loss: 0.6673\n",
      "✅ 新最佳模型已儲存（Val Loss: 0.6673）\n"
     ]
    },
    {
     "name": "stderr",
     "output_type": "stream",
     "text": [
      " 50%|█████     | 5/10 [5:03:23<5:04:07, 3649.40s/it]"
     ]
    },
    {
     "name": "stdout",
     "output_type": "stream",
     "text": [
      "Epoch [5/10] - Train Loss: 0.6628 | Val Loss: 0.6795\n"
     ]
    },
    {
     "name": "stderr",
     "output_type": "stream",
     "text": [
      " 60%|██████    | 6/10 [6:04:16<4:03:21, 3650.43s/it]"
     ]
    },
    {
     "name": "stdout",
     "output_type": "stream",
     "text": [
      "Epoch [6/10] - Train Loss: 0.6587 | Val Loss: 0.6668\n",
      "✅ 新最佳模型已儲存（Val Loss: 0.6668）\n"
     ]
    },
    {
     "name": "stderr",
     "output_type": "stream",
     "text": [
      " 70%|███████   | 7/10 [7:04:45<3:02:10, 3643.49s/it]"
     ]
    },
    {
     "name": "stdout",
     "output_type": "stream",
     "text": [
      "Epoch [7/10] - Train Loss: 0.6739 | Val Loss: 0.6821\n"
     ]
    },
    {
     "name": "stderr",
     "output_type": "stream",
     "text": [
      " 80%|████████  | 8/10 [8:05:46<2:01:38, 3649.19s/it]"
     ]
    },
    {
     "name": "stdout",
     "output_type": "stream",
     "text": [
      "Epoch [8/10] - Train Loss: 0.6587 | Val Loss: 0.6799\n"
     ]
    },
    {
     "name": "stderr",
     "output_type": "stream",
     "text": [
      " 90%|█████████ | 9/10 [9:06:43<1:00:51, 3651.47s/it]"
     ]
    },
    {
     "name": "stdout",
     "output_type": "stream",
     "text": [
      "Epoch [9/10] - Train Loss: 0.6418 | Val Loss: 0.6810\n"
     ]
    },
    {
     "name": "stderr",
     "output_type": "stream",
     "text": [
      "100%|██████████| 10/10 [10:09:16<00:00, 3655.65s/it]"
     ]
    },
    {
     "name": "stdout",
     "output_type": "stream",
     "text": [
      "Epoch [10/10] - Train Loss: 0.6536 | Val Loss: 0.6778\n"
     ]
    },
    {
     "name": "stderr",
     "output_type": "stream",
     "text": [
      "\n"
     ]
    },
    {
     "data": {
      "image/png": "[encoded data removed]",
      "text/plain": [
       "<Figure size 640x480 with 1 Axes>"
      ]
     },
     "metadata": {},
     "output_type": "display_data"
    }
   ],
   "source": [
    "best_val_loss = float('inf')\n",
    "num_epochs = 10\n",
    "\n",
    "train_losses = []\n",
    "val_losses = []\n",
    "\n",
    "for epoch in tqdm(range(num_epochs)):\n",
    "    model.train()\n",
    "    train_loss = 0\n",
    "\n",
    "    for videos, labels in train_loader:\n",
    "        videos = videos.to(device)\n",
    "        labels = labels.to(device)\n",
    "\n",
    "        optimizer.zero_grad()\n",
    "        outputs = model(videos)\n",
    "        loss = criterion(outputs, labels)\n",
    "        loss.backward()\n",
    "        optimizer.step()\n",
    "\n",
    "        train_loss += loss.item()\n",
    "\n",
    "    avg_train_loss = train_loss / len(train_loader)\n",
    "\n",
    "    # ===== 驗證階段 =====\n",
    "    model.eval()\n",
    "    val_loss = 0\n",
    "    with torch.no_grad():\n",
    "        for videos, labels in val_loader:\n",
    "            videos = videos.to(device)\n",
    "            labels = labels.to(device)\n",
    "            outputs = model(videos)\n",
    "            loss = criterion(outputs, labels)\n",
    "            val_loss += loss.item()\n",
    "\n",
    "    avg_val_loss = val_loss / len(val_loader)\n",
    "\n",
    "    # 儲存每個 epoch 的 loss\n",
    "    train_losses.append(avg_train_loss)\n",
    "    val_losses.append(avg_val_loss)\n",
    "\n",
    "    print(f\"Epoch [{epoch+1}/{num_epochs}] - Train Loss: {avg_train_loss:.4f} | Val Loss: {avg_val_loss:.4f}\")\n",
    "\n",
    "    # ===== 儲存最佳模型 =====\n",
    "    if avg_val_loss < best_val_loss:\n",
    "        best_val_loss = avg_val_loss\n",
    "        torch.save(model.state_dict(), \"best_model.pth\")\n",
    "        print(f\"新最佳模型已儲存（Val Loss: {best_val_loss:.4f}）\")\n",
    "\n",
    "# ===== 畫圖 =====\n",
    "plt.plot(train_losses, label='Train Loss')\n",
    "plt.plot(val_losses, label='Val Loss')\n",
    "plt.xlabel('Epoch')\n",
    "plt.ylabel('Loss')\n",
    "plt.title('Training & Validation Loss Curve')\n",
    "plt.legend()\n",
    "plt.grid(True)\n",
    "plt.show()\n"
   ]
  },
  {
   "cell_type": "code",
   "execution_count": 12,
   "metadata": {
    "id": "Dd6Uq8oBgl24"
   },
   "outputs": [
    {
     "data": {
      "text/plain": [
       "'\\n# Generate predictions for training videos\\ntrain_predictions = []\\n\\nfor idx, row in train_df.iterrows():\\n    # Convert video ID to integer and format with leading zeros (5 digits)\\n    video_id = int(float(row[\\'id\\']))\\n    video_filename = f\"{video_id:05d}.mp4\"  # e.g., 01924.mp4\\n    video_path = os.path.join(\"D:/nexar-collision-prediction/train\", video_filename)\\n    prob = predict_video(video_path)\\n    train_predictions.append(prob)\\n    if idx % 50 == 0:\\n        print(f\"Processed {idx} training videos...\")\\n\\ntrain_df[\\'predicted_score\\'] = train_predictions\\nprint(\"Training predictions generated.\")\\n'"
      ]
     },
     "execution_count": 12,
     "metadata": {},
     "output_type": "execute_result"
    }
   ],
   "source": [
    "'''\n",
    "# Generate predictions for training videos\n",
    "train_predictions = []\n",
    "\n",
    "for idx, row in train_df.iterrows():\n",
    "    # Convert video ID to integer and format with leading zeros (5 digits)\n",
    "    video_id = int(float(row['id']))\n",
    "    video_filename = f\"{video_id:05d}.mp4\"  # e.g., 01924.mp4\n",
    "    video_path = os.path.join(\"D:/nexar-collision-prediction/train\", video_filename)\n",
    "    prob = predict_video(video_path)\n",
    "    train_predictions.append(prob)\n",
    "    if idx % 50 == 0:\n",
    "        print(f\"Processed {idx} training videos...\")\n",
    "\n",
    "train_df['predicted_score'] = train_predictions\n",
    "print(\"Training predictions generated.\")\n",
    "'''"
   ]
  },
  {
   "cell_type": "code",
   "execution_count": 13,
   "metadata": {},
   "outputs": [
    {
     "data": {
      "text/plain": [
       "DeepCrashNN(\n",
       "  (block1): Sequential(\n",
       "    (0): Conv3d(3, 16, kernel_size=(3, 3, 3), stride=(1, 1, 1), padding=(1, 1, 1))\n",
       "    (1): BatchNorm3d(16, eps=1e-05, momentum=0.1, affine=True, track_running_stats=True)\n",
       "    (2): ReLU()\n",
       "    (3): Conv3d(16, 16, kernel_size=(3, 3, 3), stride=(1, 1, 1), padding=(1, 1, 1))\n",
       "    (4): BatchNorm3d(16, eps=1e-05, momentum=0.1, affine=True, track_running_stats=True)\n",
       "    (5): ReLU()\n",
       "    (6): MaxPool3d(kernel_size=(1, 2, 2), stride=(1, 2, 2), padding=0, dilation=1, ceil_mode=False)\n",
       "  )\n",
       "  (block2): Sequential(\n",
       "    (0): Conv3d(16, 32, kernel_size=(3, 3, 3), stride=(1, 1, 1), padding=(1, 1, 1))\n",
       "    (1): BatchNorm3d(32, eps=1e-05, momentum=0.1, affine=True, track_running_stats=True)\n",
       "    (2): ReLU()\n",
       "    (3): Conv3d(32, 32, kernel_size=(3, 3, 3), stride=(1, 1, 1), padding=(1, 1, 1))\n",
       "    (4): BatchNorm3d(32, eps=1e-05, momentum=0.1, affine=True, track_running_stats=True)\n",
       "    (5): ReLU()\n",
       "    (6): MaxPool3d(kernel_size=(1, 2, 2), stride=(1, 2, 2), padding=0, dilation=1, ceil_mode=False)\n",
       "    (7): Dropout3d(p=0.2, inplace=False)\n",
       "  )\n",
       "  (block3): Sequential(\n",
       "    (0): Conv3d(32, 64, kernel_size=(3, 3, 3), stride=(1, 1, 1), padding=(1, 1, 1))\n",
       "    (1): BatchNorm3d(64, eps=1e-05, momentum=0.1, affine=True, track_running_stats=True)\n",
       "    (2): ReLU()\n",
       "    (3): Conv3d(64, 64, kernel_size=(3, 3, 3), stride=(1, 1, 1), padding=(1, 1, 1))\n",
       "    (4): BatchNorm3d(64, eps=1e-05, momentum=0.1, affine=True, track_running_stats=True)\n",
       "    (5): ReLU()\n",
       "    (6): AdaptiveAvgPool3d(output_size=1)\n",
       "    (7): Dropout3d(p=0.2, inplace=False)\n",
       "  )\n",
       "  (dropout): Dropout(p=0.5, inplace=False)\n",
       "  (fc): Linear(in_features=64, out_features=1, bias=True)\n",
       ")"
      ]
     },
     "execution_count": 13,
     "metadata": {},
     "output_type": "execute_result"
    }
   ],
   "source": [
    "model.load_state_dict(torch.load(\"best_model.pth\"))\n",
    "model.eval()\n"
   ]
  },
  {
   "cell_type": "code",
   "execution_count": 14,
   "metadata": {
    "id": "65e41S2Ygl25"
   },
   "outputs": [
    {
     "name": "stdout",
     "output_type": "stream",
     "text": [
      "Processed 0 test videos...\n",
      "Processed 50 test videos...\n",
      "Processed 100 test videos...\n",
      "Processed 150 test videos...\n",
      "Processed 200 test videos...\n",
      "Processed 250 test videos...\n",
      "Processed 300 test videos...\n",
      "Processed 350 test videos...\n",
      "Processed 400 test videos...\n",
      "Processed 450 test videos...\n",
      "Processed 500 test videos...\n",
      "Processed 550 test videos...\n",
      "Processed 600 test videos...\n",
      "Processed 650 test videos...\n",
      "Processed 700 test videos...\n",
      "Processed 750 test videos...\n",
      "Processed 800 test videos...\n",
      "Processed 850 test videos...\n",
      "Processed 900 test videos...\n",
      "Processed 950 test videos...\n",
      "Processed 1000 test videos...\n",
      "Processed 1050 test videos...\n",
      "Processed 1100 test videos...\n",
      "Processed 1150 test videos...\n",
      "Processed 1200 test videos...\n",
      "Processed 1250 test videos...\n",
      "Processed 1300 test videos...\n",
      "Test predictions generated.\n"
     ]
    }
   ],
   "source": [
    "# Generate predictions for test videos\n",
    "test_predictions = []\n",
    "\n",
    "for idx, row in test_df.iterrows():\n",
    "    video_id = int(float(row['id']))\n",
    "    video_filename = f\"{video_id:05d}.mp4\"\n",
    "    video_path = os.path.join(\"./nexar-collision-prediction/test\", video_filename)\n",
    "    prob = predict_video(video_path)\n",
    "    test_predictions.append(prob)\n",
    "    if idx % 50 == 0:\n",
    "        print(f\"Processed {idx} test videos...\")\n",
    "\n",
    "test_df['score'] = test_predictions\n",
    "print(\"Test predictions generated.\")"
   ]
  },
  {
   "cell_type": "code",
   "execution_count": 15,
   "metadata": {
    "id": "MYlN_PJ-gl25"
   },
   "outputs": [
    {
     "name": "stdout",
     "output_type": "stream",
     "text": [
      "Submission file 'submission.csv' created successfully.\n"
     ]
    }
   ],
   "source": [
    "# Save submission file\n",
    "submission = test_df[['id', 'score']]\n",
    "submission.to_csv('submission.csv', index=False)\n",
    "print(\"Submission file 'submission.csv' created successfully.\")"
   ]
  }
 ],
 "metadata": {
  "colab": {
   "provenance": []
  },
  "kernelspec": {
   "display_name": "Python 3 (ipykernel)",
   "language": "python",
   "name": "python3"
  },
  "language_info": {
   "codemirror_mode": {
    "name": "ipython",
    "version": 3
   },
   "file_extension": ".py",
   "mimetype": "text/x-python",
   "name": "python",
   "nbconvert_exporter": "python",
   "pygments_lexer": "ipython3",
   "version": "3.11.6"
  }
 },
 "nbformat": 4,
 "nbformat_minor": 4
}
