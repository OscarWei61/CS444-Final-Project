{
 "cells": [
  {
   "cell_type": "code",
   "execution_count": 1,
   "metadata": {
    "executionInfo": {
     "elapsed": 4984,
     "status": "ok",
     "timestamp": 1746127407951,
     "user": {
      "displayName": "Sophie Huang",
      "userId": "10494597792096450022"
     },
     "user_tz": 300
    },
    "id": "H4tz4T6Ogl22"
   },
   "outputs": [],
   "source": [
    "# Import libraries\n",
    "import cv2\n",
    "import numpy as np\n",
    "import os\n",
    "import pandas as pd\n",
    "import torch\n",
    "import torch.nn as nn\n",
    "import torch.nn.functional as F\n",
    "import matplotlib.pyplot as plt\n",
    "import torchvision.transforms as T"
   ]
  },
  {
   "cell_type": "code",
   "execution_count": null,
   "metadata": {
    "colab": {
     "base_uri": "https://localhost:8080/"
    },
    "executionInfo": {
     "elapsed": 34250,
     "status": "ok",
     "timestamp": 1746042581103,
     "user": {
      "displayName": "Sophie Huang",
      "userId": "10494597792096450022"
     },
     "user_tz": 300
    },
    "id": "mzT5QjHwwPVS",
    "outputId": "245f48d9-238e-485c-ca8d-bdc9c2132c88"
   },
   "outputs": [
    {
     "name": "stdout",
     "output_type": "stream",
     "text": [
      "Mounted at /content/drive\n"
     ]
    }
   ],
   "source": [
    "# you will be prompted with a window asking to grant permissions\n",
    "from google.colab import drive\n",
    "drive.mount(\"/content/drive\")"
   ]
  },
  {
   "cell_type": "code",
   "execution_count": null,
   "metadata": {
    "colab": {
     "base_uri": "https://localhost:8080/"
    },
    "executionInfo": {
     "elapsed": 797,
     "status": "ok",
     "timestamp": 1746042581902,
     "user": {
      "displayName": "Sophie Huang",
      "userId": "10494597792096450022"
     },
     "user_tz": 300
    },
    "id": "nOyuD8wXwREN",
    "outputId": "0f8b0294-7083-4a3c-966c-cc877949360a"
   },
   "outputs": [
    {
     "name": "stdout",
     "output_type": "stream",
     "text": [
      "/content/drive/My Drive/ECE494/Final_Project\n"
     ]
    }
   ],
   "source": [
    "# fill in the path in your Google Drive in the string below. Note: do not escape slashes or spaces\n",
    "import os\n",
    "datadir = \"/content/drive/My Drive/ECE494/Final_Project\"\n",
    "if not os.path.exists(datadir):\n",
    "  !ln -s \"/content/drive/My Drive/ECE494/Final_Project\" $datadir\n",
    "os.chdir(datadir)\n",
    "!pwd"
   ]
  },
  {
   "cell_type": "code",
   "execution_count": 2,
   "metadata": {
    "colab": {
     "base_uri": "https://localhost:8080/"
    },
    "executionInfo": {
     "elapsed": 269,
     "status": "ok",
     "timestamp": 1746042584172,
     "user": {
      "displayName": "Sophie Huang",
      "userId": "10494597792096450022"
     },
     "user_tz": 300
    },
    "id": "n9A6UQ4Rgl23",
    "outputId": "2d59fd5f-5a13-4ff6-efba-3b67aa0ba035"
   },
   "outputs": [
    {
     "name": "stdout",
     "output_type": "stream",
     "text": [
      "Using device: mps\n",
      "Deep custom 3D CNN model initialized and set to eval mode.\n"
     ]
    }
   ],
   "source": [
    "# Define the deep custom 3D CNN model\n",
    "class DeepCrashNN(nn.Module):\n",
    "    def __init__(self):\n",
    "        super(DeepCrashNN, self).__init__()\n",
    "        # Block 1: 3D Conv + BatchNorm + ReLU, spatial pooling only (temporal resolution remains)\n",
    "        self.block1 = nn.Sequential(\n",
    "            nn.Conv3d(in_channels=3, out_channels=16, kernel_size=3, padding=1),\n",
    "            nn.BatchNorm3d(16),\n",
    "            nn.ReLU(),\n",
    "            # nn.Conv3d(in_channels=16, out_channels=16, kernel_size=3, padding=1),\n",
    "            # nn.BatchNorm3d(16),\n",
    "            # nn.ReLU(),\n",
    "            # nn.MaxPool3d(kernel_size=(1, 2, 2))  # Only spatial pooling: reduces H & W by 2\n",
    "            nn.Conv3d(16, 16, kernel_size=3, padding=1, stride=(1,2,2)),\n",
    "            nn.BatchNorm3d(16),\n",
    "            nn.ReLU(),\n",
    "        )\n",
    "        # Block 2: Increase channels to 32\n",
    "        self.block2 = nn.Sequential(\n",
    "            nn.Conv3d(in_channels=16, out_channels=32, kernel_size=3, padding=1),\n",
    "            nn.BatchNorm3d(32),\n",
    "            nn.ReLU(),\n",
    "            # nn.Conv3d(in_channels=32, out_channels=32, kernel_size=3, padding=1),\n",
    "            # nn.BatchNorm3d(32),\n",
    "            # nn.ReLU(),\n",
    "            # nn.MaxPool3d(kernel_size=(1, 2, 2))\n",
    "            nn.Conv3d(32, 32, 3, padding=1, stride=(1,2,2)),\n",
    "            nn.BatchNorm3d(32),\n",
    "            nn.ReLU(),\n",
    "        )\n",
    "        # Block 3: Increase channels to 64 with global pooling at the end\n",
    "        self.block3 = nn.Sequential(\n",
    "            nn.Conv3d(in_channels=32, out_channels=64, kernel_size=3, padding=1),\n",
    "            nn.BatchNorm3d(64),\n",
    "            nn.ReLU(),\n",
    "            nn.Conv3d(in_channels=64, out_channels=64, kernel_size=3, padding=1),\n",
    "            nn.BatchNorm3d(64),\n",
    "            nn.ReLU(),\n",
    "            nn.AdaptiveAvgPool3d(1)  # Global average pooling over (T, H, W)\n",
    "        )\n",
    "        self.dropout = nn.Dropout(p=0.5)\n",
    "        self.fc = nn.Linear(64, 1)\n",
    "\n",
    "        \n",
    "\n",
    "    def forward(self, x):\n",
    "        x = self.block1(x)  # (B, 16, T, H/2, W/2)\n",
    "        x = self.block2(x)  # (B, 32, T, H/4, W/4)\n",
    "        x = self.block3(x)  # (B, 64, 1, 1, 1)\n",
    "        x = x.view(x.size(0), -1)  # Flatten to (B, 64)\n",
    "        x = self.dropout(x)\n",
    "        x = self.fc(x)             # (B, 1)\n",
    "        return torch.sigmoid(x)    # Probability in [0,1]\n",
    "\n",
    "# Instantiate the model and set it to evaluation mode\n",
    "# device = torch.device(\"cuda\" if torch.cuda.is_available() else \"cpu\")\n",
    "device = torch.device(\"mps\" if torch.backends.mps.is_available() else \"cpu\")\n",
    "print(\"Using device:\", device)\n",
    "model = DeepCrashNN().to(device)\n",
    "model.eval()\n",
    "print(\"Deep custom 3D CNN model initialized and set to eval mode.\")"
   ]
  },
  {
   "cell_type": "code",
   "execution_count": 33,
   "metadata": {
    "colab": {
     "base_uri": "https://localhost:8080/"
    },
    "executionInfo": {
     "elapsed": 1025,
     "status": "ok",
     "timestamp": 1746045241708,
     "user": {
      "displayName": "Sophie Huang",
      "userId": "10494597792096450022"
     },
     "user_tz": 300
    },
    "id": "UOTlPB0Jgl24",
    "outputId": "31006828-0676-4ed5-8f42-29e264f3cf63"
   },
   "outputs": [
    {
     "name": "stdout",
     "output_type": "stream",
     "text": [
      "Training data loaded. Number of training videos: 300\n",
      "Test data loaded. Number of test videos: 1344\n"
     ]
    }
   ],
   "source": [
    "# Load training and test CSV files\n",
    "train_df = pd.read_csv('train_sorted.csv')\n",
    "test_df = pd.read_csv('test.csv')\n",
    "print(\"Training data loaded. Number of training videos:\", len(train_df))\n",
    "print(\"Test data loaded. Number of test videos:\", len(test_df))"
   ]
  },
  {
   "cell_type": "code",
   "execution_count": 34,
   "metadata": {
    "id": "ayIM15JIgl24"
   },
   "outputs": [],
   "source": [
    "# Define function to extract randomly sampled frames from a video\n",
    "def extract_random_frames(video_path, num_frames=40, resize=(224, 224)):\n",
    "    cap = cv2.VideoCapture(video_path)\n",
    "    if not cap.isOpened():\n",
    "        print(f\"Error opening video file: {video_path}\")\n",
    "        return None\n",
    "\n",
    "    total_frames = int(cap.get(cv2.CAP_PROP_FRAME_COUNT))\n",
    "    if total_frames <= 0:\n",
    "        cap.release()\n",
    "        return None\n",
    "\n",
    "    # Randomly sample 'num_frames' unique indices and sort them to preserve temporal order\n",
    "    frame_indices = sorted(np.random.choice(total_frames, num_frames, replace=False))\n",
    "\n",
    "    frames = []\n",
    "    current_frame = 0\n",
    "    next_idx = 0\n",
    "    ret = True\n",
    "    while ret and next_idx < len(frame_indices):\n",
    "        ret, frame = cap.read()\n",
    "        if not ret:\n",
    "            break\n",
    "        if current_frame == frame_indices[next_idx]:\n",
    "            frame = cv2.resize(frame, resize)\n",
    "            frame = cv2.cvtColor(frame, cv2.COLOR_BGR2RGB)\n",
    "            frame = frame.astype(np.float32) / 255.0  # Normalize to [0,1]\n",
    "            frames.append(frame)\n",
    "            next_idx += 1\n",
    "        current_frame += 1\n",
    "    cap.release()\n",
    "\n",
    "    if len(frames) < num_frames:\n",
    "        while len(frames) < num_frames:\n",
    "            frames.append(frames[-1])\n",
    "\n",
    "    # Convert frames to tensor with shape (B, C, T, H, W)\n",
    "    frames = np.stack(frames, axis=0)           # (T, H, W, C)\n",
    "    frames = np.transpose(frames, (3, 0, 1, 2))   # (C, T, H, W)\n",
    "    frames_tensor = torch.from_numpy(frames).unsqueeze(0)  # Add batch dimension\n",
    "    return frames_tensor"
   ]
  },
  {
   "cell_type": "code",
   "execution_count": 63,
   "metadata": {},
   "outputs": [],
   "source": [
    "# self.aug = T.Compose([\n",
    "#     T.RandomResizedCrop((self.H, self.W), scale=(0.8, 1.0)),\n",
    "#     T.RandomHorizontalFlip(),\n",
    "#     T.ColorJitter(brightness=0.2, contrast=0.2, saturation=0.2),\n",
    "# ])"
   ]
  },
  {
   "cell_type": "code",
   "execution_count": 35,
   "metadata": {
    "id": "ZTPQYdFCgl24"
   },
   "outputs": [],
   "source": [
    "# Define prediction function\n",
    "def predict_video(video_path):\n",
    "    frames_tensor = extract_random_frames(video_path, num_frames=16, resize=(224,224))\n",
    "    if frames_tensor is None:\n",
    "        return 0.0  # Default probability if video cannot be processed\n",
    "    frames_tensor = frames_tensor.to(device)\n",
    "    with torch.no_grad():\n",
    "        output = model(frames_tensor)  # Output shape: (B, 1)\n",
    "        prob = output.item()\n",
    "    return prob"
   ]
  },
  {
   "cell_type": "code",
   "execution_count": 36,
   "metadata": {
    "id": "oaugOrFWoj_U"
   },
   "outputs": [],
   "source": [
    "from torch.utils.data import Dataset, DataLoader\n",
    "\n",
    "class VideoDataset(Dataset):\n",
    "    def __init__(self, df, video_dir, num_frames=16, resize=(224, 224)):\n",
    "        self.df = df\n",
    "        self.video_dir = video_dir\n",
    "        self.num_frames = num_frames\n",
    "        self.resize = resize\n",
    "\n",
    "        self.aug = T.Compose([\n",
    "            T.RandomResizedCrop(self.resize, scale=(0.8,1.0)),\n",
    "            T.RandomHorizontalFlip(),\n",
    "            T.ColorJitter(brightness=0.2, contrast=0.2, saturation=0.2),\n",
    "        ])\n",
    "\n",
    "    def __len__(self):\n",
    "        return len(self.df)\n",
    "\n",
    "    def __getitem__(self, idx):\n",
    "        row = self.df.iloc[idx]\n",
    "        video_id = int(float(row['id']))\n",
    "        label = torch.tensor([row['target']], dtype=torch.float32)  # label 必須是 float\n",
    "        video_filename = f\"{video_id:05d}.mp4\"\n",
    "        video_path = os.path.join(self.video_dir, video_filename)\n",
    "\n",
    "        frames = extract_random_frames(video_path, self.num_frames, self.resize)\n",
    "        if frames is None:\n",
    "            frames = torch.zeros((1, 3, self.num_frames, *self.resize))  # fallback\n",
    "            \n",
    "    \n",
    "        return frames.squeeze(0), label"
   ]
  },
  {
   "cell_type": "code",
   "execution_count": 37,
   "metadata": {
    "id": "AV29FpcLomZu"
   },
   "outputs": [],
   "source": [
    "from sklearn.model_selection import train_test_split\n",
    "\n",
    "train_split, val_split = train_test_split(train_df, test_size=0.2, random_state=42)\n",
    "\n",
    "train_dataset = VideoDataset(train_split, video_dir='./train')\n",
    "val_dataset = VideoDataset(val_split, video_dir='./train')\n",
    "\n",
    "train_loader = DataLoader(train_dataset, batch_size=8, shuffle=True, num_workers=0)\n",
    "val_loader = DataLoader(val_dataset, batch_size=8, shuffle=False, num_workers=0)"
   ]
  },
  {
   "cell_type": "code",
   "execution_count": 38,
   "metadata": {
    "id": "Imx9hwTjorys"
   },
   "outputs": [],
   "source": [
    "# 損失函數 & 優化器\n",
    "#criterion = nn.BCELoss()\n",
    "\n",
    "# optimizer = torch.optim.Adam(model.parameters(), lr=5e-4)\n",
    "optimizer = torch.optim.Adam(model.parameters(), lr=1e-4)\n",
    "scheduler = torch.optim.lr_scheduler.CosineAnnealingLR(optimizer, T_max=30, eta_min=1e-5)\n",
    "criterion = nn.BCEWithLogitsLoss()"
   ]
  },
  {
   "cell_type": "code",
   "execution_count": null,
   "metadata": {
    "id": "D-utPXCzotdp"
   },
   "outputs": [],
   "source": [
    "# 方式一：Adam\n",
    "#optimizer = torch.optim.Adam(model.parameters(), lr=1e-4)\n",
    "\n",
    "# 方式二：SGD\n",
    "#optimizer = torch.optim.SGD(model.parameters(), lr=1e-2, momentum=0.9)\n",
    "\n",
    "# 方式三：RMSprop\n",
    "#optimizer = torch.optim.RMSprop(model.parameters(), lr=1e-4)"
   ]
  },
  {
   "cell_type": "code",
   "execution_count": 39,
   "metadata": {
    "id": "clRb0gyPot9_"
   },
   "outputs": [],
   "source": [
    "from tqdm import tqdm\n",
    "import matplotlib.pyplot as plt"
   ]
  },
  {
   "cell_type": "code",
   "execution_count": 40,
   "metadata": {
    "colab": {
     "base_uri": "https://localhost:8080/",
     "height": 671
    },
    "executionInfo": {
     "elapsed": 4151907,
     "status": "error",
     "timestamp": 1746053428698,
     "user": {
      "displayName": "Sophie Huang",
      "userId": "10494597792096450022"
     },
     "user_tz": 300
    },
    "id": "tZ-_D4jpovI8",
    "outputId": "32c1c8f2-713f-42c6-8163-8ab24b651de3"
   },
   "outputs": [
    {
     "name": "stderr",
     "output_type": "stream",
     "text": [
      "  3%|▎         | 1/30 [06:53<3:19:55, 413.63s/it]"
     ]
    },
    {
     "name": "stdout",
     "output_type": "stream",
     "text": [
      "Epoch [1/30] - Train Loss: 0.6872 | Val Loss: 0.6854\n",
      "The latest model（Val Loss: 0.6854）\n"
     ]
    },
    {
     "name": "stderr",
     "output_type": "stream",
     "text": [
      "  7%|▋         | 2/30 [14:49<3:30:09, 450.32s/it]"
     ]
    },
    {
     "name": "stdout",
     "output_type": "stream",
     "text": [
      "Epoch [2/30] - Train Loss: 0.6754 | Val Loss: 0.6974\n"
     ]
    },
    {
     "name": "stderr",
     "output_type": "stream",
     "text": [
      " 10%|█         | 3/30 [23:07<3:32:29, 472.21s/it]"
     ]
    },
    {
     "name": "stdout",
     "output_type": "stream",
     "text": [
      "Epoch [3/30] - Train Loss: 0.6759 | Val Loss: 0.6796\n",
      "The latest model（Val Loss: 0.6796）\n"
     ]
    },
    {
     "name": "stderr",
     "output_type": "stream",
     "text": [
      " 13%|█▎        | 4/30 [31:36<3:30:48, 486.48s/it]"
     ]
    },
    {
     "name": "stdout",
     "output_type": "stream",
     "text": [
      "Epoch [4/30] - Train Loss: 0.6777 | Val Loss: 0.6930\n"
     ]
    },
    {
     "name": "stderr",
     "output_type": "stream",
     "text": [
      " 17%|█▋        | 5/30 [39:55<3:24:36, 491.06s/it]"
     ]
    },
    {
     "name": "stdout",
     "output_type": "stream",
     "text": [
      "Epoch [5/30] - Train Loss: 0.6668 | Val Loss: 0.6758\n",
      "The latest model（Val Loss: 0.6758）\n"
     ]
    },
    {
     "name": "stderr",
     "output_type": "stream",
     "text": [
      " 20%|██        | 6/30 [48:19<3:18:08, 495.37s/it]"
     ]
    },
    {
     "name": "stdout",
     "output_type": "stream",
     "text": [
      "Epoch [6/30] - Train Loss: 0.6734 | Val Loss: 0.6674\n",
      "The latest model（Val Loss: 0.6674）\n"
     ]
    },
    {
     "name": "stderr",
     "output_type": "stream",
     "text": [
      " 23%|██▎       | 7/30 [56:57<3:12:44, 502.79s/it]"
     ]
    },
    {
     "name": "stdout",
     "output_type": "stream",
     "text": [
      "Epoch [7/30] - Train Loss: 0.6698 | Val Loss: 0.6818\n"
     ]
    },
    {
     "name": "stderr",
     "output_type": "stream",
     "text": [
      " 27%|██▋       | 8/30 [1:05:29<3:05:25, 505.69s/it]"
     ]
    },
    {
     "name": "stdout",
     "output_type": "stream",
     "text": [
      "Epoch [8/30] - Train Loss: 0.6661 | Val Loss: 0.6614\n",
      "The latest model（Val Loss: 0.6614）\n"
     ]
    },
    {
     "name": "stderr",
     "output_type": "stream",
     "text": [
      " 30%|███       | 9/30 [1:13:58<2:57:22, 506.78s/it]"
     ]
    },
    {
     "name": "stdout",
     "output_type": "stream",
     "text": [
      "Epoch [9/30] - Train Loss: 0.6643 | Val Loss: 0.6575\n",
      "The latest model（Val Loss: 0.6575）\n"
     ]
    },
    {
     "name": "stderr",
     "output_type": "stream",
     "text": [
      " 33%|███▎      | 10/30 [1:22:25<2:48:55, 506.79s/it]"
     ]
    },
    {
     "name": "stdout",
     "output_type": "stream",
     "text": [
      "Epoch [10/30] - Train Loss: 0.6687 | Val Loss: 0.6571\n",
      "The latest model（Val Loss: 0.6571）\n"
     ]
    },
    {
     "name": "stderr",
     "output_type": "stream",
     "text": [
      " 37%|███▋      | 11/30 [1:31:08<2:42:07, 511.95s/it]"
     ]
    },
    {
     "name": "stdout",
     "output_type": "stream",
     "text": [
      "Epoch [11/30] - Train Loss: 0.6668 | Val Loss: 0.6719\n"
     ]
    },
    {
     "name": "stderr",
     "output_type": "stream",
     "text": [
      " 40%|████      | 12/30 [1:39:38<2:33:24, 511.36s/it]"
     ]
    },
    {
     "name": "stdout",
     "output_type": "stream",
     "text": [
      "Epoch [12/30] - Train Loss: 0.6607 | Val Loss: 0.6698\n"
     ]
    },
    {
     "name": "stderr",
     "output_type": "stream",
     "text": [
      " 43%|████▎     | 13/30 [1:48:14<2:25:15, 512.69s/it]"
     ]
    },
    {
     "name": "stdout",
     "output_type": "stream",
     "text": [
      "Epoch [13/30] - Train Loss: 0.6744 | Val Loss: 0.6902\n"
     ]
    },
    {
     "name": "stderr",
     "output_type": "stream",
     "text": [
      " 47%|████▋     | 14/30 [1:56:45<2:16:35, 512.25s/it]"
     ]
    },
    {
     "name": "stdout",
     "output_type": "stream",
     "text": [
      "Epoch [14/30] - Train Loss: 0.6659 | Val Loss: 0.6554\n",
      "The latest model（Val Loss: 0.6554）\n"
     ]
    },
    {
     "name": "stderr",
     "output_type": "stream",
     "text": [
      " 50%|█████     | 15/30 [2:05:11<2:07:33, 510.24s/it]"
     ]
    },
    {
     "name": "stdout",
     "output_type": "stream",
     "text": [
      "Epoch [15/30] - Train Loss: 0.6590 | Val Loss: 0.6670\n"
     ]
    },
    {
     "name": "stderr",
     "output_type": "stream",
     "text": [
      " 53%|█████▎    | 16/30 [2:13:43<1:59:09, 510.67s/it]"
     ]
    },
    {
     "name": "stdout",
     "output_type": "stream",
     "text": [
      "Epoch [16/30] - Train Loss: 0.6663 | Val Loss: 0.6828\n"
     ]
    },
    {
     "name": "stderr",
     "output_type": "stream",
     "text": [
      " 57%|█████▋    | 17/30 [2:22:10<1:50:24, 509.60s/it]"
     ]
    },
    {
     "name": "stdout",
     "output_type": "stream",
     "text": [
      "Epoch [17/30] - Train Loss: 0.6610 | Val Loss: 0.6627\n"
     ]
    },
    {
     "name": "stderr",
     "output_type": "stream",
     "text": [
      " 60%|██████    | 18/30 [2:30:37<1:41:48, 509.03s/it]"
     ]
    },
    {
     "name": "stdout",
     "output_type": "stream",
     "text": [
      "Epoch [18/30] - Train Loss: 0.6592 | Val Loss: 0.6594\n"
     ]
    },
    {
     "name": "stderr",
     "output_type": "stream",
     "text": [
      " 63%|██████▎   | 19/30 [2:39:08<1:33:23, 509.40s/it]"
     ]
    },
    {
     "name": "stdout",
     "output_type": "stream",
     "text": [
      "Epoch [19/30] - Train Loss: 0.6556 | Val Loss: 0.6717\n"
     ]
    },
    {
     "name": "stderr",
     "output_type": "stream",
     "text": [
      " 67%|██████▋   | 20/30 [2:47:30<1:24:31, 507.19s/it]"
     ]
    },
    {
     "name": "stdout",
     "output_type": "stream",
     "text": [
      "Epoch [20/30] - Train Loss: 0.6614 | Val Loss: 0.6791\n"
     ]
    },
    {
     "name": "stderr",
     "output_type": "stream",
     "text": [
      " 70%|███████   | 21/30 [2:55:53<1:15:54, 506.03s/it]"
     ]
    },
    {
     "name": "stdout",
     "output_type": "stream",
     "text": [
      "Epoch [21/30] - Train Loss: 0.6548 | Val Loss: 0.6757\n"
     ]
    },
    {
     "name": "stderr",
     "output_type": "stream",
     "text": [
      " 73%|███████▎  | 22/30 [3:04:13<1:07:13, 504.24s/it]"
     ]
    },
    {
     "name": "stdout",
     "output_type": "stream",
     "text": [
      "Epoch [22/30] - Train Loss: 0.6607 | Val Loss: 0.6732\n"
     ]
    },
    {
     "name": "stderr",
     "output_type": "stream",
     "text": [
      " 77%|███████▋  | 23/30 [3:12:37<58:49, 504.27s/it]  "
     ]
    },
    {
     "name": "stdout",
     "output_type": "stream",
     "text": [
      "Epoch [23/30] - Train Loss: 0.6569 | Val Loss: 0.6695\n"
     ]
    },
    {
     "name": "stderr",
     "output_type": "stream",
     "text": [
      " 80%|████████  | 24/30 [3:21:01<50:24, 504.17s/it]"
     ]
    },
    {
     "name": "stdout",
     "output_type": "stream",
     "text": [
      "Epoch [24/30] - Train Loss: 0.6615 | Val Loss: 0.6669\n"
     ]
    },
    {
     "name": "stderr",
     "output_type": "stream",
     "text": [
      " 83%|████████▎ | 25/30 [3:29:24<41:58, 503.79s/it]"
     ]
    },
    {
     "name": "stdout",
     "output_type": "stream",
     "text": [
      "Epoch [25/30] - Train Loss: 0.6584 | Val Loss: 0.6737\n"
     ]
    },
    {
     "name": "stderr",
     "output_type": "stream",
     "text": [
      " 87%|████████▋ | 26/30 [3:37:52<33:39, 504.93s/it]"
     ]
    },
    {
     "name": "stdout",
     "output_type": "stream",
     "text": [
      "Epoch [26/30] - Train Loss: 0.6549 | Val Loss: 0.6652\n"
     ]
    },
    {
     "name": "stderr",
     "output_type": "stream",
     "text": [
      " 90%|█████████ | 27/30 [3:46:17<25:14, 504.98s/it]"
     ]
    },
    {
     "name": "stdout",
     "output_type": "stream",
     "text": [
      "Epoch [27/30] - Train Loss: 0.6517 | Val Loss: 0.6652\n"
     ]
    },
    {
     "name": "stderr",
     "output_type": "stream",
     "text": [
      " 93%|█████████▎| 28/30 [3:54:41<16:49, 504.60s/it]"
     ]
    },
    {
     "name": "stdout",
     "output_type": "stream",
     "text": [
      "Epoch [28/30] - Train Loss: 0.6557 | Val Loss: 0.6635\n"
     ]
    },
    {
     "name": "stderr",
     "output_type": "stream",
     "text": [
      " 97%|█████████▋| 29/30 [4:03:08<08:25, 505.46s/it]"
     ]
    },
    {
     "name": "stdout",
     "output_type": "stream",
     "text": [
      "Epoch [29/30] - Train Loss: 0.6526 | Val Loss: 0.6700\n"
     ]
    },
    {
     "name": "stderr",
     "output_type": "stream",
     "text": [
      "100%|██████████| 30/30 [4:11:38<00:00, 503.28s/it]"
     ]
    },
    {
     "name": "stdout",
     "output_type": "stream",
     "text": [
      "Epoch [30/30] - Train Loss: 0.6547 | Val Loss: 0.6652\n"
     ]
    },
    {
     "name": "stderr",
     "output_type": "stream",
     "text": [
      "\n"
     ]
    }
   ],
   "source": [
    "best_val_loss = float('inf')\n",
    "num_epochs = 30\n",
    "\n",
    "train_losses = []\n",
    "val_losses = []\n",
    "\n",
    "for epoch in tqdm(range(num_epochs)):\n",
    "    model.train()\n",
    "    train_loss = 0\n",
    "\n",
    "    for videos, labels in train_loader:\n",
    "        videos = videos.to(device)\n",
    "        labels = labels.to(device)\n",
    "\n",
    "        optimizer.zero_grad()\n",
    "        outputs = model(videos)\n",
    "        loss = criterion(outputs, labels)\n",
    "        loss.backward()\n",
    "        optimizer.step()\n",
    "\n",
    "        train_loss += loss.item()\n",
    "\n",
    "    avg_train_loss = train_loss / len(train_loader)\n",
    "\n",
    "    # ===== 驗證階段 =====\n",
    "    model.eval()\n",
    "    val_loss = 0\n",
    "    with torch.no_grad():\n",
    "        for videos, labels in val_loader:\n",
    "            videos = videos.to(device)\n",
    "            labels = labels.to(device)\n",
    "            outputs = model(videos)\n",
    "            loss = criterion(outputs, labels)\n",
    "            val_loss += loss.item()\n",
    "\n",
    "    avg_val_loss = val_loss / len(val_loader)\n",
    "\n",
    "    # 儲存每個 epoch 的 loss\n",
    "    train_losses.append(avg_train_loss)\n",
    "    val_losses.append(avg_val_loss)\n",
    "\n",
    "    print(f\"Epoch [{epoch+1}/{num_epochs}] - Train Loss: {avg_train_loss:.4f} | Val Loss: {avg_val_loss:.4f}\")\n",
    "\n",
    "    scheduler.step()\n",
    "\n",
    "    # ===== 儲存最佳模型 =====\n",
    "    if avg_val_loss < best_val_loss:\n",
    "        best_val_loss = avg_val_loss\n",
    "        torch.save(model.state_dict(), \"best_model.pth\")\n",
    "        print(f\"The latest model（Val Loss: {best_val_loss:.4f}）\")\n",
    "\n",
    "# ===== 畫圖 =====\n",
    "# plt.plot(train_losses, label='Train Loss')\n",
    "# plt.plot(val_losses, label='Val Loss')\n",
    "# plt.xlabel('Epoch')\n",
    "# plt.ylabel('Loss')\n",
    "# plt.title('Training & Validation Loss Curve')\n",
    "# plt.legend()\n",
    "# plt.grid(True)\n",
    "# plt.show()"
   ]
  },
  {
   "cell_type": "code",
   "execution_count": null,
   "metadata": {},
   "outputs": [],
   "source": []
  },
  {
   "cell_type": "code",
   "execution_count": 41,
   "metadata": {
    "colab": {
     "base_uri": "https://localhost:8080/",
     "height": 472
    },
    "executionInfo": {
     "elapsed": 160,
     "status": "ok",
     "timestamp": 1746054162329,
     "user": {
      "displayName": "Sophie Huang",
      "userId": "10494597792096450022"
     },
     "user_tz": 300
    },
    "id": "I7sawPhe5ZUI",
    "outputId": "dbbc32c9-ad5f-4dd3-ef93-45f5684c5999"
   },
   "outputs": [
    {
     "data": {
      "image/png": "[encoded data removed]",
      "text/plain": [
       "<Figure size 640x480 with 1 Axes>"
      ]
     },
     "metadata": {},
     "output_type": "display_data"
    }
   ],
   "source": [
    "plt.plot(train_losses, label='Train Loss')\n",
    "plt.plot(val_losses, label='Val Loss')\n",
    "plt.xlabel('Epoch')\n",
    "plt.ylabel('Loss')\n",
    "plt.title('Training & Validation Loss Curve')\n",
    "plt.legend()\n",
    "plt.grid(True)\n",
    "plt.show()"
   ]
  },
  {
   "cell_type": "code",
   "execution_count": 42,
   "metadata": {
    "colab": {
     "base_uri": "https://localhost:8080/",
     "height": 1000
    },
    "executionInfo": {
     "elapsed": 401743,
     "status": "ok",
     "timestamp": 1746053832681,
     "user": {
      "displayName": "Sophie Huang",
      "userId": "10494597792096450022"
     },
     "user_tz": 300
    },
    "id": "Dd6Uq8oBgl24",
    "outputId": "65a34ca1-43fa-4f43-e63e-ade5fe994f21"
   },
   "outputs": [
    {
     "name": "stdout",
     "output_type": "stream",
     "text": [
      "0.704912006855011\n",
      "Processed 0 training videos...\n",
      "0.5358209013938904\n",
      "0.695815920829773\n",
      "0.2527342140674591\n",
      "0.5365949273109436\n",
      "0.03999616578221321\n",
      "0.5120237469673157\n",
      "0.46815383434295654\n",
      "0.2715376317501068\n",
      "0.5360186100006104\n",
      "0.5754626393318176\n",
      "0.22818030416965485\n",
      "0.49842414259910583\n",
      "0.7325218319892883\n",
      "0.0867578461766243\n",
      "0.11046038568019867\n",
      "0.6993005275726318\n",
      "0.8928030729293823\n",
      "0.5226265788078308\n",
      "0.1901054084300995\n",
      "0.22638775408267975\n",
      "0.3721666932106018\n",
      "0.7020068168640137\n",
      "0.6564036011695862\n",
      "0.4013538956642151\n",
      "0.22855931520462036\n",
      "0.9217294454574585\n",
      "0.8083441853523254\n",
      "0.09120699763298035\n",
      "0.2577342689037323\n",
      "0.6079869866371155\n",
      "0.5918475389480591\n",
      "0.44756820797920227\n",
      "0.4220278263092041\n",
      "0.7540446519851685\n",
      "0.2091381847858429\n",
      "0.1514025628566742\n",
      "0.9315878748893738\n",
      "0.35884523391723633\n",
      "0.6242860555648804\n",
      "0.36038902401924133\n",
      "0.3259604573249817\n",
      "0.8611899018287659\n",
      "0.9012986421585083\n",
      "0.3100951015949249\n",
      "0.4416150152683258\n",
      "0.24083304405212402\n",
      "0.5768437385559082\n",
      "0.8333503007888794\n",
      "0.18240338563919067\n",
      "0.3527843654155731\n",
      "Processed 50 training videos...\n",
      "0.07179749011993408\n",
      "0.819812536239624\n",
      "0.5667502284049988\n",
      "0.15292635560035706\n",
      "0.7161060571670532\n",
      "0.1379907727241516\n",
      "0.6635445952415466\n",
      "0.24855497479438782\n",
      "0.837300717830658\n",
      "0.9380130171775818\n",
      "0.7833334803581238\n",
      "0.5938851237297058\n",
      "0.14584167301654816\n",
      "0.6295152306556702\n",
      "0.9295489192008972\n",
      "0.05257149040699005\n",
      "0.6691089272499084\n",
      "0.42330268025398254\n",
      "0.529589056968689\n",
      "0.3308723568916321\n",
      "0.2557816803455353\n",
      "0.46915364265441895\n",
      "0.8060119152069092\n",
      "0.1661798655986786\n",
      "0.3768877387046814\n",
      "0.2553800344467163\n",
      "0.06163787469267845\n",
      "0.6921523809432983\n",
      "0.4994901716709137\n",
      "0.5289743542671204\n",
      "0.3656313717365265\n",
      "0.9057039022445679\n",
      "0.2404697686433792\n",
      "0.8415682315826416\n",
      "0.16032379865646362\n",
      "0.12472235411405563\n",
      "0.6305846571922302\n",
      "0.3952655494213104\n",
      "0.5296032428741455\n",
      "0.5337924957275391\n",
      "0.08014915138483047\n",
      "0.1295916885137558\n",
      "0.13503794372081757\n",
      "0.7847029566764832\n",
      "0.7915140390396118\n",
      "0.32518094778060913\n",
      "0.2253393828868866\n",
      "0.5755208134651184\n",
      "0.4671363830566406\n",
      "0.1567109227180481\n",
      "Processed 100 training videos...\n",
      "0.5921415686607361\n",
      "0.33469200134277344\n",
      "0.4756249189376831\n",
      "0.5422982573509216\n",
      "0.2898924648761749\n",
      "0.10243315249681473\n",
      "0.6192505359649658\n",
      "0.2850724756717682\n",
      "0.7479884624481201\n",
      "0.22117596864700317\n",
      "0.5704338550567627\n",
      "0.1683329939842224\n",
      "0.6497398018836975\n",
      "0.8029611110687256\n",
      "0.6386070251464844\n",
      "0.5768080353736877\n",
      "0.8801637887954712\n",
      "0.5666022896766663\n",
      "0.3264106214046478\n",
      "0.3565363883972168\n",
      "0.03257591649889946\n",
      "0.5184502601623535\n",
      "0.8499364256858826\n",
      "0.19608387351036072\n",
      "0.3142158091068268\n",
      "0.7066769003868103\n",
      "0.4534256160259247\n",
      "0.1311752051115036\n",
      "0.5326915979385376\n",
      "0.23680844902992249\n",
      "0.5352863073348999\n",
      "0.055228009819984436\n",
      "0.12109822779893875\n",
      "0.3948734998703003\n",
      "0.5338721871376038\n",
      "0.9161869883537292\n",
      "0.1628514975309372\n",
      "0.7614234685897827\n",
      "0.7763691544532776\n",
      "0.6300926208496094\n",
      "0.24154432117938995\n",
      "0.7538174986839294\n",
      "0.14983677864074707\n",
      "0.786698579788208\n",
      "0.29045751690864563\n",
      "0.6802731156349182\n",
      "0.5920424461364746\n",
      "0.35063838958740234\n",
      "0.18310225009918213\n",
      "0.041436705738306046\n",
      "Processed 150 training videos...\n",
      "0.5759899020195007\n",
      "0.20868542790412903\n",
      "0.16201283037662506\n",
      "0.05609666928648949\n",
      "0.036126382648944855\n",
      "0.03326360508799553\n",
      "0.5770071744918823\n",
      "0.06700506806373596\n",
      "0.28915929794311523\n",
      "0.5867374539375305\n",
      "0.04557887837290764\n",
      "0.20611579716205597\n",
      "0.39399465918540955\n",
      "0.10487315058708191\n",
      "0.5880170464515686\n",
      "0.04055283963680267\n",
      "0.22537270188331604\n",
      "0.040946103632450104\n",
      "0.05517660453915596\n",
      "0.044571779668331146\n",
      "0.1990354359149933\n",
      "0.1325092613697052\n",
      "0.07279399037361145\n",
      "0.030039066448807716\n",
      "0.23719915747642517\n",
      "0.2768148183822632\n",
      "0.24451979994773865\n",
      "0.18406683206558228\n",
      "0.1097826138138771\n",
      "0.024358220398426056\n",
      "0.012905332259833813\n",
      "0.16462190449237823\n",
      "0.046415768563747406\n",
      "0.016212519258260727\n",
      "0.25381824374198914\n",
      "0.008016273379325867\n",
      "0.1186961755156517\n",
      "0.21129000186920166\n",
      "0.05384134501218796\n",
      "0.06187993288040161\n",
      "0.1635359525680542\n",
      "0.6618962287902832\n",
      "0.2213202565908432\n",
      "0.17328886687755585\n",
      "0.110240139067173\n",
      "0.054705910384655\n",
      "0.03087615966796875\n",
      "0.5563687682151794\n",
      "0.014137636870145798\n",
      "0.033734895288944244\n",
      "Processed 200 training videos...\n",
      "0.6114723682403564\n",
      "0.29352420568466187\n",
      "0.11205705255270004\n",
      "0.36786046624183655\n",
      "0.04879043996334076\n",
      "0.1324434131383896\n",
      "0.4579240083694458\n",
      "0.09788002818822861\n",
      "0.8630886673927307\n",
      "0.13786648213863373\n",
      "0.026640094816684723\n",
      "0.1028510183095932\n",
      "0.31296825408935547\n",
      "0.14848990738391876\n",
      "0.3386215567588806\n",
      "0.0425465926527977\n",
      "0.05228201672434807\n",
      "0.04120315611362457\n",
      "0.27380630373954773\n",
      "0.08634912222623825\n",
      "0.04320176690816879\n",
      "0.3110591769218445\n",
      "0.11795225739479065\n",
      "0.07650887966156006\n",
      "0.25673210620880127\n",
      "0.14004357159137726\n",
      "0.11529562622308731\n",
      "0.13192954659461975\n",
      "0.012786418199539185\n",
      "0.05584264546632767\n",
      "0.10445451736450195\n",
      "0.39920666813850403\n",
      "0.19733299314975739\n",
      "0.31178373098373413\n",
      "0.08179286867380142\n",
      "0.22091548144817352\n",
      "0.15314367413520813\n",
      "0.12326199561357498\n",
      "0.5738548636436462\n",
      "0.2286437749862671\n",
      "0.19267655909061432\n",
      "0.15080010890960693\n",
      "0.11288070678710938\n",
      "0.2837742865085602\n",
      "0.03602016717195511\n",
      "0.06265544891357422\n",
      "0.16527414321899414\n",
      "0.07495599240064621\n",
      "0.10089847445487976\n",
      "0.3614482283592224\n",
      "Processed 250 training videos...\n",
      "0.18181779980659485\n",
      "0.19770589470863342\n",
      "0.10069651156663895\n",
      "0.014810286462306976\n",
      "0.011929109692573547\n",
      "0.10133150964975357\n",
      "0.38839489221572876\n",
      "0.17874155938625336\n",
      "0.10518211871385574\n",
      "0.4327983260154724\n",
      "0.4170112609863281\n",
      "0.02202298864722252\n",
      "0.03357682004570961\n",
      "0.08293034881353378\n",
      "0.11754843592643738\n",
      "0.26423439383506775\n",
      "0.21083752810955048\n",
      "0.47902318835258484\n",
      "0.27314430475234985\n",
      "0.06635784357786179\n",
      "0.14095476269721985\n",
      "0.21094170212745667\n",
      "0.12317483127117157\n",
      "0.02892467752099037\n",
      "0.5921388268470764\n",
      "0.17859600484371185\n",
      "0.06709911674261093\n",
      "0.34378790855407715\n",
      "0.11641930788755417\n",
      "0.08077027648687363\n",
      "0.39540621638298035\n",
      "0.40325814485549927\n",
      "0.05678985267877579\n",
      "0.06896485388278961\n",
      "0.16350488364696503\n",
      "0.026919446885585785\n",
      "0.052959512919187546\n",
      "0.5498917102813721\n",
      "0.24718829989433289\n",
      "0.6057440042495728\n",
      "0.3152582347393036\n",
      "0.04070476442575455\n",
      "0.6267532110214233\n",
      "0.3012755811214447\n",
      "0.41531774401664734\n",
      "0.022333960980176926\n",
      "0.22597922384738922\n",
      "0.28503018617630005\n",
      "0.2832387685775757\n",
      "Training predictions generated.\n"
     ]
    },
    {
     "data": {
      "image/png": "[encoded data removed]",
      "text/plain": [
       "<Figure size 640x480 with 1 Axes>"
      ]
     },
     "metadata": {},
     "output_type": "display_data"
    }
   ],
   "source": [
    "# Generate predictions for training videos\n",
    "train_predictions = []\n",
    "\n",
    "for idx, row in train_df.iterrows():\n",
    "    # Convert video ID to integer and format with leading zeros (5 digits)\n",
    "    video_id = int(float(row['id']))\n",
    "    video_filename = f\"{video_id:05d}.mp4\"  # e.g., 01924.mp4\n",
    "    video_path = os.path.join(\"train\", video_filename)\n",
    "    prob = predict_video(video_path)\n",
    "    print(prob)\n",
    "    train_predictions.append(prob)\n",
    "    if idx % 50 == 0:\n",
    "        print(f\"Processed {idx} training videos...\")\n",
    "\n",
    "train_df['predicted_score'] = train_predictions\n",
    "print(\"Training predictions generated.\")\n",
    "\n",
    "# -------\n",
    "plt.figure()\n",
    "plt.hist(train_predictions, bins=20)            # 切成 20 個區間\n",
    "plt.xlabel('Predicted Collision Probability')\n",
    "plt.ylabel('Number of Videos')\n",
    "plt.title('Distribution of Predicted Scores')\n",
    "plt.grid(True)\n",
    "plt.show()\n"
   ]
  },
  {
   "cell_type": "code",
   "execution_count": 43,
   "metadata": {
    "colab": {
     "base_uri": "https://localhost:8080/"
    },
    "executionInfo": {
     "elapsed": 18,
     "status": "ok",
     "timestamp": 1745983702323,
     "user": {
      "displayName": "Sophie Huang",
      "userId": "10494597792096450022"
     },
     "user_tz": 300
    },
    "id": "rrPLOKH5o19R",
    "outputId": "acda12b1-236d-41af-c4a0-5326f56a4a69"
   },
   "outputs": [
    {
     "name": "stderr",
     "output_type": "stream",
     "text": [
      "/var/folders/3d/b1d7gbsj4v77r3kkzymv8zch0000gn/T/ipykernel_67093/3738422358.py:1: FutureWarning: You are using `torch.load` with `weights_only=False` (the current default value), which uses the default pickle module implicitly. It is possible to construct malicious pickle data which will execute arbitrary code during unpickling (See https://github.com/pytorch/pytorch/blob/main/SECURITY.md#untrusted-models for more details). In a future release, the default value for `weights_only` will be flipped to `True`. This limits the functions that could be executed during unpickling. Arbitrary objects will no longer be allowed to be loaded via this mode unless they are explicitly allowlisted by the user via `torch.serialization.add_safe_globals`. We recommend you start setting `weights_only=True` for any use case where you don't have full control of the loaded file. Please open an issue on GitHub for any issues related to this experimental feature.\n",
      "  model.load_state_dict(torch.load(\"best_model.pth\"))\n"
     ]
    },
    {
     "data": {
      "text/plain": [
       "DeepCrashNN(\n",
       "  (block1): Sequential(\n",
       "    (0): Conv3d(3, 16, kernel_size=(3, 3, 3), stride=(1, 1, 1), padding=(1, 1, 1))\n",
       "    (1): BatchNorm3d(16, eps=1e-05, momentum=0.1, affine=True, track_running_stats=True)\n",
       "    (2): ReLU()\n",
       "    (3): Conv3d(16, 16, kernel_size=(3, 3, 3), stride=(1, 2, 2), padding=(1, 1, 1))\n",
       "    (4): BatchNorm3d(16, eps=1e-05, momentum=0.1, affine=True, track_running_stats=True)\n",
       "    (5): ReLU()\n",
       "  )\n",
       "  (block2): Sequential(\n",
       "    (0): Conv3d(16, 32, kernel_size=(3, 3, 3), stride=(1, 1, 1), padding=(1, 1, 1))\n",
       "    (1): BatchNorm3d(32, eps=1e-05, momentum=0.1, affine=True, track_running_stats=True)\n",
       "    (2): ReLU()\n",
       "    (3): Conv3d(32, 32, kernel_size=(3, 3, 3), stride=(1, 2, 2), padding=(1, 1, 1))\n",
       "    (4): BatchNorm3d(32, eps=1e-05, momentum=0.1, affine=True, track_running_stats=True)\n",
       "    (5): ReLU()\n",
       "  )\n",
       "  (block3): Sequential(\n",
       "    (0): Conv3d(32, 64, kernel_size=(3, 3, 3), stride=(1, 1, 1), padding=(1, 1, 1))\n",
       "    (1): BatchNorm3d(64, eps=1e-05, momentum=0.1, affine=True, track_running_stats=True)\n",
       "    (2): ReLU()\n",
       "    (3): Conv3d(64, 64, kernel_size=(3, 3, 3), stride=(1, 1, 1), padding=(1, 1, 1))\n",
       "    (4): BatchNorm3d(64, eps=1e-05, momentum=0.1, affine=True, track_running_stats=True)\n",
       "    (5): ReLU()\n",
       "    (6): AdaptiveAvgPool3d(output_size=1)\n",
       "  )\n",
       "  (dropout): Dropout(p=0.5, inplace=False)\n",
       "  (fc): Linear(in_features=64, out_features=1, bias=True)\n",
       ")"
      ]
     },
     "execution_count": 43,
     "metadata": {},
     "output_type": "execute_result"
    }
   ],
   "source": [
    "model.load_state_dict(torch.load(\"best_model.pth\"))\n",
    "model.eval()"
   ]
  },
  {
   "cell_type": "code",
   "execution_count": 44,
   "metadata": {
    "colab": {
     "base_uri": "https://localhost:8080/"
    },
    "executionInfo": {
     "elapsed": 2301538,
     "status": "ok",
     "timestamp": 1746056482129,
     "user": {
      "displayName": "Sophie Huang",
      "userId": "10494597792096450022"
     },
     "user_tz": 300
    },
    "id": "65e41S2Ygl25",
    "outputId": "5ad23954-813c-467f-f295-ea3997af098f"
   },
   "outputs": [
    {
     "name": "stdout",
     "output_type": "stream",
     "text": [
      "Processed 0 test videos...\n",
      "Processed 50 test videos...\n",
      "Processed 100 test videos...\n",
      "Processed 150 test videos...\n",
      "Processed 200 test videos...\n",
      "Processed 250 test videos...\n",
      "Processed 300 test videos...\n",
      "Processed 350 test videos...\n",
      "Processed 400 test videos...\n",
      "Processed 450 test videos...\n",
      "Processed 500 test videos...\n",
      "Processed 550 test videos...\n",
      "Processed 600 test videos...\n",
      "Processed 650 test videos...\n",
      "Processed 700 test videos...\n",
      "Processed 750 test videos...\n",
      "Processed 800 test videos...\n",
      "Processed 850 test videos...\n",
      "Processed 900 test videos...\n",
      "Processed 950 test videos...\n",
      "Processed 1000 test videos...\n",
      "Processed 1050 test videos...\n",
      "Processed 1100 test videos...\n",
      "Processed 1150 test videos...\n",
      "Processed 1200 test videos...\n",
      "Processed 1250 test videos...\n",
      "Processed 1300 test videos...\n",
      "Test predictions generated.\n"
     ]
    }
   ],
   "source": [
    "# Generate predictions for test videos\n",
    "test_predictions = []\n",
    "\n",
    "for idx, row in test_df.iterrows():\n",
    "    video_id = int(float(row['id']))\n",
    "    video_filename = f\"{video_id:05d}.mp4\"\n",
    "    video_path = os.path.join(\"test\", video_filename)\n",
    "    prob = predict_video(video_path)\n",
    "    test_predictions.append(prob)\n",
    "    if idx % 50 == 0:\n",
    "        print(f\"Processed {idx} test videos...\")\n",
    "\n",
    "test_df['score'] = test_predictions\n",
    "print(\"Test predictions generated.\")"
   ]
  },
  {
   "cell_type": "code",
   "execution_count": 45,
   "metadata": {
    "colab": {
     "base_uri": "https://localhost:8080/"
    },
    "executionInfo": {
     "elapsed": 48,
     "status": "ok",
     "timestamp": 1746056495111,
     "user": {
      "displayName": "Sophie Huang",
      "userId": "10494597792096450022"
     },
     "user_tz": 300
    },
    "id": "MYlN_PJ-gl25",
    "outputId": "2c44182e-c248-43bf-88bc-c66da154f448"
   },
   "outputs": [
    {
     "name": "stdout",
     "output_type": "stream",
     "text": [
      "Submission file 'submission.csv' created successfully.\n"
     ]
    }
   ],
   "source": [
    "# Save submission file\n",
    "submission = test_df[['id', 'score']]\n",
    "submission.to_csv('submission.csv', index=False)\n",
    "print(\"Submission file 'submission.csv' created successfully.\")"
   ]
  }
 ],
 "metadata": {
  "accelerator": "GPU",
  "colab": {
   "gpuType": "A100",
   "machine_shape": "hm",
   "provenance": [
    {
     "file_id": "1WXiB6buhMAZMvbIKWssJLYQeVMXfXQft",
     "timestamp": 1745973257953
    }
   ]
  },
  "kernelspec": {
   "display_name": "cs444",
   "language": "python",
   "name": "python3"
  },
  "language_info": {
   "codemirror_mode": {
    "name": "ipython",
    "version": 3
   },
   "file_extension": ".py",
   "mimetype": "text/x-python",
   "name": "python",
   "nbconvert_exporter": "python",
   "pygments_lexer": "ipython3",
   "version": "3.8.20"
  }
 },
 "nbformat": 4,
 "nbformat_minor": 0
}
